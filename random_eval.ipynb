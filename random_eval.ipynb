{
 "cells": [
  {
   "cell_type": "code",
   "execution_count": 1,
   "metadata": {},
   "outputs": [],
   "source": [
    "%load_ext autoreload\n",
    "%autoreload 2"
   ]
  },
  {
   "cell_type": "code",
   "execution_count": 17,
   "metadata": {},
   "outputs": [],
   "source": [
    "import numpy as np\n",
    "import sliding_puzzles"
   ]
  },
  {
   "cell_type": "code",
   "execution_count": 36,
   "metadata": {},
   "outputs": [],
   "source": [
    "def eval(n_eval_episodes=1000, **env_kwargs):\n",
    "    eval_env = sliding_puzzles.make(**env_kwargs)\n",
    "    eval_rewards = []\n",
    "    successes = []\n",
    "\n",
    "    for episode in range(n_eval_episodes):\n",
    "        eval_env.reset()\n",
    "        done = False\n",
    "        episode_rewards = 0\n",
    "        steps = 0\n",
    "        while not done and steps < 1000:\n",
    "            action = eval_env.action_space.sample()\n",
    "            _, reward, done, _, info = eval_env.step(action)\n",
    "            episode_rewards += reward\n",
    "            steps += 1\n",
    "        eval_rewards.append(episode_rewards)\n",
    "        successes.append(info[\"is_success\"])\n",
    "        # print(f\"Episode {episode + 1}: Total Reward = {episode_rewards}, Success = {info['is_success']}\")\n",
    "\n",
    "    eval_rewards = np.array(eval_rewards)\n",
    "    successes = np.array(successes)\n",
    "    return (\n",
    "        eval_rewards.mean(),\n",
    "        eval_rewards.std(),\n",
    "        successes.mean(),\n",
    "        successes.std(),\n",
    "    )"
   ]
  },
  {
   "cell_type": "code",
   "execution_count": 34,
   "metadata": {},
   "outputs": [
    {
     "data": {
      "text/plain": [
       "(-41.38883333333334, 50.217405158581336, 1.0, 0.0)"
      ]
     },
     "execution_count": 34,
     "metadata": {},
     "output_type": "execute_result"
    }
   ],
   "source": [
    "eval(\n",
    "    w=2,\n",
    "    shuffle_steps=8,\n",
    ")"
   ]
  },
  {
   "cell_type": "code",
   "execution_count": 37,
   "metadata": {},
   "outputs": [
    {
     "data": {
      "text/plain": [
       "(-615.9455625, 54.096148844087956, 0.006, 0.0772269383052313)"
      ]
     },
     "execution_count": 37,
     "metadata": {},
     "output_type": "execute_result"
    }
   ],
   "source": [
    "eval(\n",
    "    w=3,\n",
    "    shuffle_steps=18,\n",
    ")"
   ]
  },
  {
   "cell_type": "code",
   "execution_count": 38,
   "metadata": {},
   "outputs": [
    {
     "data": {
      "text/plain": [
       "(-521.9251777777773, 26.923752997348288, 0.0, 0.0)"
      ]
     },
     "execution_count": 38,
     "metadata": {},
     "output_type": "execute_result"
    }
   ],
   "source": [
    "eval(\n",
    "    w=4,\n",
    "    shuffle_steps=32,\n",
    ")"
   ]
  },
  {
   "cell_type": "code",
   "execution_count": 39,
   "metadata": {},
   "outputs": [
    {
     "data": {
      "text/plain": [
       "(-428.0011354166666, 23.243022947447443, 0.0, 0.0)"
      ]
     },
     "execution_count": 39,
     "metadata": {},
     "output_type": "execute_result"
    }
   ],
   "source": [
    "eval(\n",
    "    w=5,\n",
    "    shuffle_steps=50,\n",
    ")"
   ]
  }
 ],
 "metadata": {
  "kernelspec": {
   "display_name": "dreamer",
   "language": "python",
   "name": "python3"
  },
  "language_info": {
   "codemirror_mode": {
    "name": "ipython",
    "version": 3
   },
   "file_extension": ".py",
   "mimetype": "text/x-python",
   "name": "python",
   "nbconvert_exporter": "python",
   "pygments_lexer": "ipython3",
   "version": "3.8.17"
  }
 },
 "nbformat": 4,
 "nbformat_minor": 2
}
